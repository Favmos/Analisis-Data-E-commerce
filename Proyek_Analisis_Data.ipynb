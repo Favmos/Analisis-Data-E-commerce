{
  "cells": [
    {
      "cell_type": "markdown",
      "metadata": {
        "id": "H9wADwK78DCz"
      },
      "source": [
        "# Proyek Analisis Data: [Input Nama Dataset]\n",
        "- **Nama:** Abdul Rezak\n",
        "- **Email:** a452ybf004@devacademy.id\n",
        "- **ID Dicoding:** A452YBF004"
      ]
    },
    {
      "cell_type": "markdown",
      "metadata": {
        "id": "eE0raob58DC0"
      },
      "source": [
        "## Menentukan Pertanyaan Bisnis"
      ]
    },
    {
      "cell_type": "markdown",
      "metadata": {
        "id": "GmQeQ5YF8DC0"
      },
      "source": [
        "- Bagaimana distribusi kategori produk yang paling banyak dibeli oleh pelanggan?\n",
        "- Bagaimana rata-rata waktu pengiriman dari pemesanan hingga diterima oleh pelanggan?"
      ]
    },
    {
      "cell_type": "markdown",
      "metadata": {
        "id": "H-z4QGlO8DC1"
      },
      "source": [
        "## Import Semua Packages/Library yang Digunakan"
      ]
    },
    {
      "cell_type": "code",
      "execution_count": 1,
      "metadata": {
        "id": "FVYwaObI8DC1"
      },
      "outputs": [],
      "source": [
        "import pandas as pd\n",
        "import numpy as np\n",
        "import matplotlib.pyplot as plt\n",
        "import seaborn as sns\n",
        "import zipfile\n",
        "import os"
      ]
    },
    {
      "cell_type": "markdown",
      "metadata": {
        "id": "h_Sh51Xy8DC1"
      },
      "source": [
        "## Data Wrangling"
      ]
    },
    {
      "cell_type": "markdown",
      "metadata": {
        "id": "sXU2GBYu8DC1"
      },
      "source": [
        "### Gathering Data"
      ]
    },
    {
      "cell_type": "code",
      "execution_count": 3,
      "metadata": {
        "id": "zjCBk1BI8DC1",
        "colab": {
          "base_uri": "https://localhost:8080/"
        },
        "outputId": "51ec6e2a-d943-4a9b-d0d8-15612db23cf2"
      },
      "outputs": [
        {
          "output_type": "stream",
          "name": "stdout",
          "text": [
            "Extracted Files: ['customers_dataset.csv', 'order_items_dataset.csv', 'products_dataset.csv', 'sellers_dataset.csv', 'order_reviews_dataset.csv', 'geolocation_dataset.csv', 'orders_dataset.csv', 'New Text Document.txt', 'product_category_name_translation.csv', 'order_payments_dataset.csv']\n"
          ]
        }
      ],
      "source": [
        "# Mengunggah dan mengekstrak dataset dari file zip\n",
        "zip_path = \"/content/E-commerce-public-dataset.zip\"\n",
        "extract_path = \"/content/ecommerce_dataset\"\n",
        "with zipfile.ZipFile(zip_path, 'r') as zip_ref:\n",
        "    zip_ref.extractall(extract_path)\n",
        "dataset_path = os.path.join(extract_path, \"E-Commerce Public Dataset\")\n",
        "dataset_files = os.listdir(dataset_path)\n",
        "print(\"Extracted Files:\", dataset_files)"
      ]
    },
    {
      "cell_type": "markdown",
      "source": [
        "**Insight:**\n",
        "- memastikan bahwa semua data yang dibutuhkan tersedia dan dapat diakses.\n",
        "- Dengan mengekstrak dataset dari file zip dan membaca file CSV ke dalam DataFrame, kita bisa memahami cakupan data yang akan dianalisis.\n",
        "- Jika terdapat kesalahan dalam membaca data, itu bisa menjadi indikasi bahwa format file atau encoding perlu diperbaiki."
      ],
      "metadata": {
        "id": "MMi6xGaDkbCi"
      }
    },
    {
      "cell_type": "markdown",
      "metadata": {
        "id": "FHSiqaZp8DC1"
      },
      "source": [
        "### Assessing Data"
      ]
    },
    {
      "cell_type": "code",
      "source": [
        "# Memuat dataset ke dalam DataFrame\n",
        "order_items = pd.read_csv(os.path.join(dataset_path, \"order_items_dataset.csv\"))\n",
        "products = pd.read_csv(os.path.join(dataset_path, \"products_dataset.csv\"))\n",
        "category_translation = pd.read_csv(os.path.join(dataset_path, \"product_category_name_translation.csv\"))\n",
        "orders = pd.read_csv(os.path.join(dataset_path, \"orders_dataset.csv\"))\n",
        "\n",
        "# Menampilkan informasi dasar dari dataset\n",
        "print(\"Order Items Info:\")\n",
        "print(order_items.info())\n",
        "print(\"Orders Info:\")\n",
        "print(orders.info())"
      ],
      "metadata": {
        "id": "ax-3tEjc9Cj1",
        "colab": {
          "base_uri": "https://localhost:8080/"
        },
        "outputId": "fc01805d-ddd3-40a4-eb05-2ea83c8a0e45"
      },
      "execution_count": 6,
      "outputs": [
        {
          "output_type": "stream",
          "name": "stdout",
          "text": [
            "Order Items Info:\n",
            "<class 'pandas.core.frame.DataFrame'>\n",
            "RangeIndex: 112650 entries, 0 to 112649\n",
            "Data columns (total 7 columns):\n",
            " #   Column               Non-Null Count   Dtype  \n",
            "---  ------               --------------   -----  \n",
            " 0   order_id             112650 non-null  object \n",
            " 1   order_item_id        112650 non-null  int64  \n",
            " 2   product_id           112650 non-null  object \n",
            " 3   seller_id            112650 non-null  object \n",
            " 4   shipping_limit_date  112650 non-null  object \n",
            " 5   price                112650 non-null  float64\n",
            " 6   freight_value        112650 non-null  float64\n",
            "dtypes: float64(2), int64(1), object(4)\n",
            "memory usage: 6.0+ MB\n",
            "None\n",
            "Orders Info:\n",
            "<class 'pandas.core.frame.DataFrame'>\n",
            "RangeIndex: 99441 entries, 0 to 99440\n",
            "Data columns (total 8 columns):\n",
            " #   Column                         Non-Null Count  Dtype \n",
            "---  ------                         --------------  ----- \n",
            " 0   order_id                       99441 non-null  object\n",
            " 1   customer_id                    99441 non-null  object\n",
            " 2   order_status                   99441 non-null  object\n",
            " 3   order_purchase_timestamp       99441 non-null  object\n",
            " 4   order_approved_at              99281 non-null  object\n",
            " 5   order_delivered_carrier_date   97658 non-null  object\n",
            " 6   order_delivered_customer_date  96476 non-null  object\n",
            " 7   order_estimated_delivery_date  99441 non-null  object\n",
            "dtypes: object(8)\n",
            "memory usage: 6.1+ MB\n",
            "None\n"
          ]
        }
      ]
    },
    {
      "cell_type": "markdown",
      "source": [
        "**Insight:**\n",
        "- Mengecek informasi dasar seperti jumlah baris dan kolom, tipe data, missing values, dan duplikasi.\n",
        "- Jika terdapat kolom dengan banyak nilai kosong, maka kita harus mempertimbangkan apakah akan dihapus atau diisi ulang dengan estimasi tertentu.\n",
        "- Tipe data yang tidak sesuai (misalnya, tanggal yang disimpan sebagai string) dapat menghambat analisis dan perlu dikonversi."
      ],
      "metadata": {
        "id": "7dtxhAPrkhPL"
      }
    },
    {
      "cell_type": "markdown",
      "metadata": {
        "id": "EhN5R4hr8DC1"
      },
      "source": [
        "### Cleaning Data"
      ]
    },
    {
      "cell_type": "code",
      "source": [
        "# Mengubah kolom tanggal ke format datetime\n",
        "orders['order_purchase_timestamp'] = pd.to_datetime(orders['order_purchase_timestamp'])\n",
        "orders['order_delivered_customer_date'] = pd.to_datetime(orders['order_delivered_customer_date'])\n",
        "\n",
        "# Menghitung waktu pengiriman dalam hari\n",
        "orders['delivery_time_days'] = (orders['order_delivered_customer_date'] - orders['order_purchase_timestamp']).dt.days\n",
        "\n",
        "# Menghapus nilai NaN jika diperlukan\n",
        "orders_cleaned = orders.dropna(subset=['delivery_time_days'])"
      ],
      "metadata": {
        "id": "jVnYpprE9Evz"
      },
      "execution_count": 8,
      "outputs": []
    },
    {
      "cell_type": "markdown",
      "source": [
        "**Insight:**\n",
        "- Mengonversi kolom waktu ke format datetime agar bisa dihitung selisih waktu pengiriman.\n",
        "- Menghapus data yang tidak relevan atau duplikasi agar tidak menyebabkan bias dalam analisis.\n",
        "- Mengisi nilai kosong dengan strategi yang sesuai (misalnya rata-rata atau median)."
      ],
      "metadata": {
        "id": "Q_5ejIqckiSP"
      }
    },
    {
      "cell_type": "markdown",
      "metadata": {
        "id": "gp-Y6wU38DC1"
      },
      "source": [
        "## Exploratory Data Analysis (EDA)"
      ]
    },
    {
      "cell_type": "markdown",
      "metadata": {
        "id": "MW7WF2kr8DC1"
      },
      "source": [
        "### Explore ..."
      ]
    },
    {
      "cell_type": "code",
      "execution_count": 9,
      "metadata": {
        "id": "e9CQCZjk8DC2"
      },
      "outputs": [],
      "source": [
        "# Menggabungkan dataset untuk menganalisis kategori produk yang paling laku\n",
        "merged_data = order_items.merge(products, on=\"product_id\", how=\"left\")\n",
        "merged_data = merged_data.merge(category_translation, on=\"product_category_name\", how=\"left\")"
      ]
    },
    {
      "cell_type": "code",
      "source": [
        "# Menghitung jumlah produk yang terjual per kategori\n",
        "category_counts = merged_data['product_category_name_english'].value_counts().reset_index()\n",
        "category_counts.columns = ['Product Category', 'Total Sold']"
      ],
      "metadata": {
        "id": "h646ls6ZpZKd"
      },
      "execution_count": 10,
      "outputs": []
    },
    {
      "cell_type": "markdown",
      "source": [
        "**Insight:**\n",
        "- Jika kategori bed_bath_table menjadi kategori dengan penjualan tertinggi, maka produk di kategori ini bisa menjadi prioritas dalam promosi.\n",
        "- Jika ditemukan rata-rata waktu pengiriman sekitar 12 hari, tetapi ada banyak kasus di atas 20 hari, maka bisa jadi ada keterlambatan pengiriman yang perlu dianalisis lebih lanjut"
      ],
      "metadata": {
        "id": "th_Lzl2Fkj9O"
      }
    },
    {
      "cell_type": "markdown",
      "metadata": {
        "id": "zsyZjqak8DC2"
      },
      "source": [
        "## Visualization & Explanatory Analysis"
      ]
    },
    {
      "cell_type": "markdown",
      "metadata": {
        "id": "HZxOiQ6n8DC2"
      },
      "source": [
        "### Pertanyaan 1:"
      ]
    },
    {
      "cell_type": "code",
      "execution_count": 11,
      "metadata": {
        "id": "1swJUdAD8DC2",
        "colab": {
          "base_uri": "https://localhost:8080/",
          "height": 655
        },
        "outputId": "41e3bd4c-f550-452c-c13b-27ae25d9b8cf"
      },
      "outputs": [
        {
          "output_type": "stream",
          "name": "stderr",
          "text": [
            "<ipython-input-11-21b79cf680a2>:3: FutureWarning: \n",
            "\n",
            "Passing `palette` without assigning `hue` is deprecated and will be removed in v0.14.0. Assign the `y` variable to `hue` and set `legend=False` for the same effect.\n",
            "\n",
            "  sns.barplot(data=category_counts.head(10), x='Total Sold', y='Product Category', palette='viridis')\n"
          ]
        },
        {
          "output_type": "display_data",
          "data": {
            "text/plain": [
              "<Figure size 1200x600 with 1 Axes>"
            ],
            "image/png": "[encoded data removed]"
          },
          "metadata": {}
        }
      ],
      "source": [
        "# Visualisasi 10 kategori produk paling laris\n",
        "plt.figure(figsize=(12,6))\n",
        "sns.barplot(data=category_counts.head(10), x='Total Sold', y='Product Category', palette='viridis')\n",
        "plt.xlabel(\"Total Sold\")\n",
        "plt.ylabel(\"Product Category\")\n",
        "plt.title(\"Top 10 Best Selling Product Categories\")\n",
        "plt.show()"
      ]
    },
    {
      "cell_type": "markdown",
      "metadata": {
        "id": "DgHI7CiU8DC2"
      },
      "source": [
        "### Pertanyaan 2:"
      ]
    },
    {
      "cell_type": "code",
      "execution_count": 12,
      "metadata": {
        "id": "Go0lCsvO8DC2",
        "colab": {
          "base_uri": "https://localhost:8080/",
          "height": 487
        },
        "outputId": "95ffbbd1-1952-41bd-ad6e-81ea5228fe9d"
      },
      "outputs": [
        {
          "output_type": "display_data",
          "data": {
            "text/plain": [
              "<Figure size 1000x500 with 1 Axes>"
            ],
            "image/png": "[encoded data removed]"
          },
          "metadata": {}
        }
      ],
      "source": [
        "# Visualisasi distribusi waktu pengiriman\n",
        "plt.figure(figsize=(10,5))\n",
        "sns.histplot(orders_cleaned['delivery_time_days'], bins=30, kde=True, color='blue')\n",
        "plt.xlabel(\"Delivery Time (Days)\")\n",
        "plt.ylabel(\"Frequency\")\n",
        "plt.title(\"Distribution of Delivery Time\")\n",
        "plt.show()"
      ]
    },
    {
      "cell_type": "markdown",
      "source": [
        "**Insight:**\n",
        "- Jika kategori produk tertentu mendominasi penjualan, maka perusahaan dapat memfokuskan strategi pemasaran dan stok barang pada kategori tersebut.\n",
        "- Jika histogram menunjukkan bahwa sebagian besar pengiriman selesai dalam 5-15 hari, tetapi ada outlier yang sangat lama, maka bisa jadi ada masalah dalam sistem logistik."
      ],
      "metadata": {
        "id": "_0-36BDLklRg"
      }
    },
    {
      "cell_type": "markdown",
      "source": [
        "## Analisis Lanjutan (Opsional)"
      ],
      "metadata": {
        "id": "9y4VUsmcYNZ5"
      }
    },
    {
      "cell_type": "code",
      "source": [
        "# Menampilkan statistik deskriptif dari waktu pengiriman\n",
        "delivery_stats = orders_cleaned['delivery_time_days'].describe()\n",
        "print(\"Delivery Time Statistics:\")\n",
        "print(delivery_stats)\n"
      ],
      "metadata": {
        "id": "iWhnzsJGYUCO",
        "colab": {
          "base_uri": "https://localhost:8080/"
        },
        "outputId": "2cc28bba-4680-4f39-8857-50a76659d1b7"
      },
      "execution_count": 13,
      "outputs": [
        {
          "output_type": "stream",
          "name": "stdout",
          "text": [
            "Delivery Time Statistics:\n",
            "count    96476.000000\n",
            "mean        12.094086\n",
            "std          9.551746\n",
            "min          0.000000\n",
            "25%          6.000000\n",
            "50%         10.000000\n",
            "75%         15.000000\n",
            "max        209.000000\n",
            "Name: delivery_time_days, dtype: float64\n"
          ]
        }
      ]
    },
    {
      "cell_type": "markdown",
      "source": [
        "**Insight:**\n",
        "- Jika rata-rata waktu pengiriman lebih lama untuk pelanggan di area tertentu, maka ada peluang untuk meningkatkan efisiensi pengiriman di wilayah tersebut.\n",
        "- Jika produk dengan rating tinggi (>4.5) memiliki tingkat pembelian ulang yang lebih tinggi, maka ulasan pelanggan bisa dijadikan faktor dalam rekomendasi produk."
      ],
      "metadata": {
        "id": "_Ve1QeX1rc82"
      }
    },
    {
      "cell_type": "markdown",
      "metadata": {
        "id": "_WeHlCeX8DC2"
      },
      "source": [
        "## Conclusion"
      ]
    },
    {
      "cell_type": "markdown",
      "metadata": {
        "id": "ZTcyR48Y8DC2"
      },
      "source": [
        "\n",
        "Conclusion Pertanyaan 1: Bagaimana distribusi kategori produk yang paling banyak dibeli oleh pelanggan?\n",
        "\n",
        "Berdasarkan analisis, kategori produk yang paling banyak dibeli oleh pelanggan adalah:\n",
        "1. Bed & Bath Table\n",
        "2. Health & Beauty\n",
        "3. Sports & Leisure\n",
        "4. Furniture & Decor\n",
        "5. Computers & Accessories\n",
        "\n",
        "Kategori-kategori ini menunjukkan bahwa pelanggan lebih banyak membeli produk yang berkaitan dengan kebutuhan rumah tangga, kesehatan, dan teknologi.\n",
        "Strategi pemasaran dapat difokuskan pada kategori-kategori ini untuk meningkatkan penjualan lebih lanjut.\n",
        "\n",
        "Conclusion Pertanyaan 2: Bagaimana rata-rata waktu pengiriman dari pemesanan hingga diterima oleh pelanggan?\n",
        "\n",
        "Hasil analisis menunjukkan bahwa:\n",
        "- Rata-rata waktu pengiriman adalah sekitar 12 hari\n",
        "- 50% pesanan dikirim dalam waktu kurang dari 10 hari\n",
        "- 75% pesanan dikirim dalam waktu kurang dari 15 hari\n",
        "- Beberapa outlier menunjukkan waktu pengiriman hingga lebih dari 200 hari\n",
        "\n",
        "Sebagian besar pesanan dikirim dalam rentang waktu yang wajar, tetapi ada kasus ekstrem yang memerlukan perhatian lebih lanjut.\n",
        "Evaluasi lebih lanjut terhadap logistik pengiriman dapat membantu mengurangi keterlambatan yang terjadi.\n"
      ]
    }
  ],
  "metadata": {
    "kernelspec": {
      "display_name": "Python 3",
      "language": "python",
      "name": "python3"
    },
    "language_info": {
      "name": "python",
      "version": "3.8.0 (tags/v3.8.0:fa919fd, Oct 14 2019, 19:21:23) [MSC v.1916 32 bit (Intel)]"
    },
    "orig_nbformat": 4,
    "vscode": {
      "interpreter": {
        "hash": "972b3bf27e332e87b5379f2791f6ef9dfc79c71018c370b0d7423235e20fe4d7"
      }
    },
    "colab": {
      "provenance": []
    }
  },
  "nbformat": 4,
  "nbformat_minor": 0
}